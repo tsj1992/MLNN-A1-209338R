{
 "cells": [
  {
   "cell_type": "code",
   "execution_count": 1,
   "metadata": {},
   "outputs": [],
   "source": [
    "# AUTHOR: KATS JAYATHILAKA - 209338R\n",
    "# DESCRIPTION: This is an assignment done on neural networks for the machine learnining module - MSc2020\n",
    "#              Classification of MNIST dataset using a deep neural network"
   ]
  },
  {
   "cell_type": "code",
   "execution_count": 2,
   "metadata": {},
   "outputs": [],
   "source": [
    "# importing tensorflow lib\n",
    "import tensorflow as tf"
   ]
  },
  {
   "cell_type": "code",
   "execution_count": 3,
   "metadata": {},
   "outputs": [],
   "source": [
    "# importing built-in MNIST dataset\n",
    "mnist = tf.keras.datasets.mnist  # 28x28 images of hand-written digits"
   ]
  },
  {
   "cell_type": "code",
   "execution_count": 4,
   "metadata": {},
   "outputs": [],
   "source": [
    "# splitting into train and test sets by the default proportions\n",
    "(x_train, y_train), (x_test, y_test) = mnist.load_data()"
   ]
  },
  {
   "cell_type": "code",
   "execution_count": 5,
   "metadata": {},
   "outputs": [],
   "source": [
    "# imnporting libs for train test splitting\n",
    "import numpy as np\n",
    "from sklearn.model_selection import train_test_split"
   ]
  },
  {
   "cell_type": "code",
   "execution_count": 6,
   "metadata": {},
   "outputs": [],
   "source": [
    "x = np.concatenate((x_train, x_test))  # join all rows of attribute data\n",
    "y = np.concatenate((y_train, y_test))  # join all target classes"
   ]
  },
  {
   "cell_type": "code",
   "execution_count": 7,
   "metadata": {},
   "outputs": [],
   "source": [
    "TRAIN_SIZE = 0.80  # custom train test split proportion\n",
    "\n",
    "# Randome state is set to my index no.\n",
    "x_train, x_test, y_train, y_test = train_test_split(x, y, train_size=TRAIN_SIZE, random_state=209338)"
   ]
  },
  {
   "cell_type": "code",
   "execution_count": 8,
   "metadata": {},
   "outputs": [],
   "source": [
    "# importing plotting libs\n",
    "import matplotlib.pyplot as plt"
   ]
  },
  {
   "cell_type": "code",
   "execution_count": 9,
   "metadata": {},
   "outputs": [
    {
     "data": {
      "image/png": "[encoded data removed]",
      "text/plain": [
       "<Figure size 432x288 with 1 Axes>"
      ]
     },
     "metadata": {
      "needs_background": "light"
     },
     "output_type": "display_data"
    },
    {
     "data": {
      "text/plain": [
       "2"
      ]
     },
     "execution_count": 9,
     "metadata": {},
     "output_type": "execute_result"
    }
   ],
   "source": [
    "# previewing the image and the target class\n",
    "plt.imshow(x_train[0], cmap=plt.cm.binary)\n",
    "plt.show()\n",
    "y_train[0]"
   ]
  },
  {
   "cell_type": "code",
   "execution_count": 10,
   "metadata": {},
   "outputs": [],
   "source": [
    "# z-score standardization of attribute data\n",
    "x_train = tf.keras.utils.normalize(x_train, axis=1)\n",
    "x_test = tf.keras.utils.normalize(x_test, axis=1)"
   ]
  },
  {
   "cell_type": "code",
   "execution_count": 11,
   "metadata": {},
   "outputs": [
    {
     "data": {
      "text/plain": [
       "<function matplotlib.pyplot.show(*args, **kw)>"
      ]
     },
     "execution_count": 11,
     "metadata": {},
     "output_type": "execute_result"
    },
    {
     "data": {
      "image/png": "[encoded data removed]",
      "text/plain": [
       "<Figure size 432x288 with 1 Axes>"
      ]
     },
     "metadata": {
      "needs_background": "light"
     },
     "output_type": "display_data"
    }
   ],
   "source": [
    "# previewing the image using the standardized data\n",
    "plt.imshow(x_train[0], cmap=plt.cm.binary)\n",
    "plt.show"
   ]
  },
  {
   "cell_type": "code",
   "execution_count": 12,
   "metadata": {},
   "outputs": [
    {
     "name": "stdout",
     "output_type": "stream",
     "text": [
      "WARNING:tensorflow:From C:\\ProgramData\\Anaconda3\\lib\\site-packages\\tensorflow\\python\\ops\\resource_variable_ops.py:435: colocate_with (from tensorflow.python.framework.ops) is deprecated and will be removed in a future version.\n",
      "Instructions for updating:\n",
      "Colocations handled automatically by placer.\n"
     ]
    }
   ],
   "source": [
    "# creating the Deep Neural Network Model\n",
    "model = tf.keras.models.Sequential()  # feed-forward model\n",
    "\n",
    "# adding input layer by flattening the input attributes into a single dimension'\n",
    "model.add(tf.keras.layers.Flatten())\n",
    "\n",
    "# adding hidden layers\n",
    "model.add(tf.keras.layers.Dense(256, activation=tf.keras.activations.relu))\n",
    "model.add(tf.keras.layers.Dense(128, activation=tf.keras.activations.relu))\n",
    "\n",
    "# adding output layer\n",
    "model.add(tf.keras.layers.Dense(10, activation=tf.keras.activations.softmax))\n",
    "\n",
    "# compllie the model\n",
    "model.compile(optimizer=\"adam\", loss=\"sparse_categorical_crossentropy\", metrics=[\"accuracy\"])"
   ]
  },
  {
   "cell_type": "code",
   "execution_count": 13,
   "metadata": {},
   "outputs": [
    {
     "name": "stdout",
     "output_type": "stream",
     "text": [
      "Epoch 1/20\n",
      "56000/56000 [==============================] - 5s 84us/sample - loss: 0.2371 - acc: 0.9295\n",
      "Epoch 2/20\n",
      "56000/56000 [==============================] - 5s 83us/sample - loss: 0.0932 - acc: 0.9706\n",
      "Epoch 3/20\n",
      "56000/56000 [==============================] - 5s 82us/sample - loss: 0.0593 - acc: 0.9806\n",
      "Epoch 4/20\n",
      "56000/56000 [==============================] - 5s 82us/sample - loss: 0.0432 - acc: 0.9857\n",
      "Epoch 5/20\n",
      "56000/56000 [==============================] - 5s 84us/sample - loss: 0.0311 - acc: 0.9899\n",
      "Epoch 6/20\n",
      "56000/56000 [==============================] - 4s 76us/sample - loss: 0.0246 - acc: 0.9920\n",
      "Epoch 7/20\n",
      "56000/56000 [==============================] - 4s 80us/sample - loss: 0.0203 - acc: 0.9932\n",
      "Epoch 8/20\n",
      "56000/56000 [==============================] - 5s 83us/sample - loss: 0.0163 - acc: 0.9944\n",
      "Epoch 9/20\n",
      "56000/56000 [==============================] - 4s 77us/sample - loss: 0.0144 - acc: 0.9950\n",
      "Epoch 10/20\n",
      "56000/56000 [==============================] - 5s 81us/sample - loss: 0.0133 - acc: 0.9956\n",
      "Epoch 11/20\n",
      "56000/56000 [==============================] - 4s 79us/sample - loss: 0.0123 - acc: 0.9958\n",
      "Epoch 12/20\n",
      "56000/56000 [==============================] - 4s 79us/sample - loss: 0.0108 - acc: 0.9964\n",
      "Epoch 13/20\n",
      "56000/56000 [==============================] - 4s 79us/sample - loss: 0.0100 - acc: 0.9964\n",
      "Epoch 14/20\n",
      "56000/56000 [==============================] - 5s 83us/sample - loss: 0.0092 - acc: 0.9969\n",
      "Epoch 15/20\n",
      "56000/56000 [==============================] - 5s 82us/sample - loss: 0.0096 - acc: 0.9969\n",
      "Epoch 16/20\n",
      "56000/56000 [==============================] - 5s 83us/sample - loss: 0.0095 - acc: 0.9969\n",
      "Epoch 17/20\n",
      "56000/56000 [==============================] - 5s 83us/sample - loss: 0.0070 - acc: 0.9976\n",
      "Epoch 18/20\n",
      "56000/56000 [==============================] - 5s 81us/sample - loss: 0.0096 - acc: 0.9973\n",
      "Epoch 19/20\n",
      "56000/56000 [==============================] - 4s 80us/sample - loss: 0.0068 - acc: 0.9976\n",
      "Epoch 20/20\n",
      "56000/56000 [==============================] - 5s 84us/sample - loss: 0.0052 - acc: 0.9983\n"
     ]
    },
    {
     "data": {
      "text/plain": [
       "<tensorflow.python.keras.callbacks.History at 0x25d51f01088>"
      ]
     },
     "execution_count": 13,
     "metadata": {},
     "output_type": "execute_result"
    }
   ],
   "source": [
    "EPOCHS = 20\n",
    "\n",
    "# training for multiple epochs\n",
    "model.fit(x_train, y_train, epochs=EPOCHS)"
   ]
  },
  {
   "cell_type": "code",
   "execution_count": 15,
   "metadata": {},
   "outputs": [
    {
     "name": "stdout",
     "output_type": "stream",
     "text": [
      "14000/14000 [==============================] - 0s 28us/sample - loss: 0.1533 - acc: 0.9769\n"
     ]
    }
   ],
   "source": [
    "loss, accuracy = model.evaluate(x_test, y_test)"
   ]
  },
  {
   "cell_type": "code",
   "execution_count": 26,
   "metadata": {},
   "outputs": [
    {
     "data": {
      "image/png": "[encoded data removed]",
      "text/plain": [
       "<Figure size 432x288 with 1 Axes>"
      ]
     },
     "metadata": {},
     "output_type": "display_data"
    }
   ],
   "source": [
    "# plotting accuracy for each epoch\n",
    "from matplotlib import pyplot as plt\n",
    "\n",
    "epoch_x = [1,2,3,4,5,6,7,8,9,10,11,12,13,14,15,16,17,18,19,20]\n",
    "accuracy_y = [0.9295,0.9706,0.9806,0.9857,0.9899,0.9920,0.9932,0.9944,0.9950,0.9956,0.9958,0.9964,0.9964,0.9969,0.9969,0.9969,0.9976,0.9973,0.9976,0.9983]\n",
    "loss_y = [0.2371,0.0932,0.0593,0.0432,0.0311,0.0246,0.0203,0.0163,0.0144,0.0133,0.0123,0.0108,0.0100,0.0092,0.0096,0.0095,0.0070,0.0096,0.0068,0.0052]\n",
    "\n",
    "plt.style.use(\"fivethirtyeight\")\n",
    "# plt.xkcd()\n",
    "\n",
    "plt.plot(epoch_x, accuracy_y, color=\"green\", linestyle=\"-\", marker=\".\", linewidth=1, label='Accuracy')\n",
    "\n",
    "plt.plot(epoch_x, loss_y, \".-r\", linewidth=3, label='Loss')\n",
    "\n",
    "plt.xlabel(\"Epoch\")\n",
    "plt.ylabel(\"Evaluation Metric\")\n",
    "plt.title(\"Accuracy & Loss for each Epoch\")\n",
    "plt.legend()\n",
    "\n",
    "plt.grid(True)\n",
    "plt.tight_layout()\n",
    "\n",
    "plt.savefig(\"acc_loss_per_epoch.png\", dpi=440)\n",
    "plt.show()"
   ]
  }
 ],
 "metadata": {
  "kernelspec": {
   "display_name": "Python 3",
   "language": "python",
   "name": "python3"
  },
  "language_info": {
   "codemirror_mode": {
    "name": "ipython",
    "version": 3
   },
   "file_extension": ".py",
   "mimetype": "text/x-python",
   "name": "python",
   "nbconvert_exporter": "python",
   "pygments_lexer": "ipython3",
   "version": "3.7.4"
  }
 },
 "nbformat": 4,
 "nbformat_minor": 2
}
