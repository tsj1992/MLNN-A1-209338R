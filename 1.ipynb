{
 "cells": [
  {
   "cell_type": "code",
   "execution_count": 1,
   "metadata": {},
   "outputs": [],
   "source": [
    "# AUTHOR: KATS JAYATHILAKA - 209338R\n",
    "# DESCRIPTION: This is an assignment done on neural networks for the machine learnining module - MSc2020\n",
    "#              Classification of MNIST dataset using a deep neural network"
   ]
  },
  {
   "cell_type": "code",
   "execution_count": 2,
   "metadata": {},
   "outputs": [],
   "source": [
    "# importing tensorflow lib\n",
    "import tensorflow as tf"
   ]
  },
  {
   "cell_type": "code",
   "execution_count": 3,
   "metadata": {},
   "outputs": [],
   "source": [
    "# importing built-in MNIST dataset\n",
    "mnist = tf.keras.datasets.mnist  # 28x28 images of hand-written digits"
   ]
  },
  {
   "cell_type": "code",
   "execution_count": 4,
   "metadata": {},
   "outputs": [],
   "source": [
    "# splitting into train and test sets by the default proportions\n",
    "(x_train, y_train), (x_test, y_test) = mnist.load_data()"
   ]
  },
  {
   "cell_type": "code",
   "execution_count": 5,
   "metadata": {},
   "outputs": [],
   "source": [
    "# imnporting libs for train test splitting\n",
    "import numpy as np\n",
    "from sklearn.model_selection import train_test_split"
   ]
  },
  {
   "cell_type": "code",
   "execution_count": 6,
   "metadata": {},
   "outputs": [],
   "source": [
    "x = np.concatenate((x_train, x_test))  # join all rows of attribute data\n",
    "y = np.concatenate((y_train, y_test))  # join all target classes"
   ]
  },
  {
   "cell_type": "code",
   "execution_count": 7,
   "metadata": {},
   "outputs": [],
   "source": [
    "TRAIN_SIZE = 0.65  # custom train test split proportion\n",
    "\n",
    "# Randome state is set to my index no.\n",
    "x_train, x_test, y_train, y_test = train_test_split(x, y, train_size=TRAIN_SIZE, random_state=209338)"
   ]
  },
  {
   "cell_type": "code",
   "execution_count": 8,
   "metadata": {},
   "outputs": [],
   "source": [
    "# importing plotting libs\n",
    "import matplotlib.pyplot as plt"
   ]
  },
  {
   "cell_type": "code",
   "execution_count": 9,
   "metadata": {},
   "outputs": [
    {
     "data": {
      "image/png": "[encoded data removed]",
      "text/plain": [
       "<Figure size 432x288 with 1 Axes>"
      ]
     },
     "metadata": {
      "needs_background": "light"
     },
     "output_type": "display_data"
    },
    {
     "data": {
      "text/plain": [
       "1"
      ]
     },
     "execution_count": 9,
     "metadata": {},
     "output_type": "execute_result"
    }
   ],
   "source": [
    "# previewing the image and the target class\n",
    "plt.imshow(x_train[0], cmap=plt.cm.binary)\n",
    "plt.show()\n",
    "y_train[0]"
   ]
  },
  {
   "cell_type": "code",
   "execution_count": 10,
   "metadata": {},
   "outputs": [],
   "source": [
    "# z-score standardization of attribute data\n",
    "x_train = tf.keras.utils.normalize(x_train, axis=1)\n",
    "x_test = tf.keras.utils.normalize(x_test, axis=1)"
   ]
  },
  {
   "cell_type": "code",
   "execution_count": 11,
   "metadata": {},
   "outputs": [
    {
     "data": {
      "text/plain": [
       "<function matplotlib.pyplot.show(*args, **kw)>"
      ]
     },
     "execution_count": 11,
     "metadata": {},
     "output_type": "execute_result"
    },
    {
     "data": {
      "image/png": "[encoded data removed]",
      "text/plain": [
       "<Figure size 432x288 with 1 Axes>"
      ]
     },
     "metadata": {
      "needs_background": "light"
     },
     "output_type": "display_data"
    }
   ],
   "source": [
    "# previewing the image using the standardized data\n",
    "plt.imshow(x_train[0], cmap=plt.cm.binary)\n",
    "plt.show"
   ]
  },
  {
   "cell_type": "code",
   "execution_count": 12,
   "metadata": {},
   "outputs": [
    {
     "name": "stdout",
     "output_type": "stream",
     "text": [
      "WARNING:tensorflow:From C:\\ProgramData\\Anaconda3\\lib\\site-packages\\tensorflow\\python\\ops\\resource_variable_ops.py:435: colocate_with (from tensorflow.python.framework.ops) is deprecated and will be removed in a future version.\n",
      "Instructions for updating:\n",
      "Colocations handled automatically by placer.\n"
     ]
    }
   ],
   "source": [
    "# creating the Deep Neural Network Model\n",
    "model = tf.keras.models.Sequential()  # feed-forward model\n",
    "\n",
    "# adding input layer by flattening the input attributes into a single dimension'\n",
    "model.add(tf.keras.layers.Flatten())\n",
    "\n",
    "# adding hidden layers\n",
    "model.add(tf.keras.layers.Dense(256, activation=tf.keras.activations.sigmoid))\n",
    "model.add(tf.keras.layers.Dense(128, activation=tf.keras.activations.sigmoid))\n",
    "\n",
    "# adding output layer\n",
    "model.add(tf.keras.layers.Dense(10, activation=tf.keras.activations.softmax))\n",
    "\n",
    "# compllie the model\n",
    "model.compile(optimizer=\"adam\", loss=\"sparse_categorical_crossentropy\", metrics=[\"accuracy\"])"
   ]
  },
  {
   "cell_type": "code",
   "execution_count": 13,
   "metadata": {},
   "outputs": [
    {
     "name": "stdout",
     "output_type": "stream",
     "text": [
      "Epoch 1/20\n",
      "45500/45500 [==============================] - 11s 242us/sample - loss: 0.2665 - acc: 0.9215\n",
      "Epoch 2/20\n",
      "45500/45500 [==============================] - 11s 247us/sample - loss: 0.1046 - acc: 0.9674\n",
      "Epoch 3/20\n",
      "45500/45500 [==============================] - 13s 284us/sample - loss: 0.0671 - acc: 0.9787\n",
      "Epoch 4/20\n",
      "45500/45500 [==============================] - 11s 251us/sample - loss: 0.0466 - acc: 0.9850\n",
      "Epoch 5/20\n",
      "45500/45500 [==============================] - 11s 244us/sample - loss: 0.0349 - acc: 0.9885\n",
      "Epoch 6/20\n",
      "45500/45500 [==============================] - 10s 230us/sample - loss: 0.0268 - acc: 0.9909\n",
      "Epoch 7/20\n",
      "45500/45500 [==============================] - 12s 269us/sample - loss: 0.0201 - acc: 0.9928\n",
      "Epoch 8/20\n",
      "45500/45500 [==============================] - 11s 244us/sample - loss: 0.0163 - acc: 0.9944\n",
      "Epoch 9/20\n",
      "45500/45500 [==============================] - 10s 213us/sample - loss: 0.0163 - acc: 0.9940\n",
      "Epoch 10/20\n",
      "45500/45500 [==============================] - 9s 205us/sample - loss: 0.0135 - acc: 0.9951\n",
      "Epoch 11/20\n",
      "45500/45500 [==============================] - 8s 185us/sample - loss: 0.0127 - acc: 0.9956\n",
      "Epoch 12/20\n",
      "45500/45500 [==============================] - 9s 204us/sample - loss: 0.0123 - acc: 0.9961\n",
      "Epoch 13/20\n",
      "45500/45500 [==============================] - 9s 193us/sample - loss: 0.0078 - acc: 0.9978\n",
      "Epoch 14/20\n",
      "45500/45500 [==============================] - 11s 235us/sample - loss: 0.0091 - acc: 0.9971 - loss: 0.0090 - \n",
      "Epoch 15/20\n",
      "45500/45500 [==============================] - 10s 219us/sample - loss: 0.0123 - acc: 0.9961\n",
      "Epoch 16/20\n",
      "45500/45500 [==============================] - 12s 270us/sample - loss: 0.0085 - acc: 0.9971\n",
      "Epoch 17/20\n",
      "45500/45500 [==============================] - 12s 262us/sample - loss: 0.0080 - acc: 0.9975\n",
      "Epoch 18/20\n",
      "45500/45500 [==============================] - 9s 194us/sample - loss: 0.0085 - acc: 0.9975\n",
      "Epoch 19/20\n",
      "45500/45500 [==============================] - 10s 226us/sample - loss: 0.0085 - acc: 0.9972\n",
      "Epoch 20/20\n",
      "45500/45500 [==============================] - 10s 213us/sample - loss: 0.0069 - acc: 0.9978\n"
     ]
    },
    {
     "data": {
      "text/plain": [
       "<tensorflow.python.keras.callbacks.History at 0x202a5b6ce48>"
      ]
     },
     "execution_count": 13,
     "metadata": {},
     "output_type": "execute_result"
    }
   ],
   "source": [
    "EPOCHS = 20\n",
    "\n",
    "# training for multiple epochs\n",
    "model.fit(x_train, y_train, epochs=EPOCHS)"
   ]
  },
  {
   "cell_type": "code",
   "execution_count": 14,
   "metadata": {},
   "outputs": [
    {
     "name": "stdout",
     "output_type": "stream",
     "text": [
      "24500/24500 [==============================] - 3s 122us/sample - loss: 0.1727 - acc: 0.9702\n"
     ]
    }
   ],
   "source": [
    "loss, accuracy = model.evaluate(x_test, y_test)"
   ]
  }
 ],
 "metadata": {
  "kernelspec": {
   "display_name": "Python 3",
   "language": "python",
   "name": "python3"
  },
  "language_info": {
   "codemirror_mode": {
    "name": "ipython",
    "version": 3
   },
   "file_extension": ".py",
   "mimetype": "text/x-python",
   "name": "python",
   "nbconvert_exporter": "python",
   "pygments_lexer": "ipython3",
   "version": "3.7.4"
  }
 },
 "nbformat": 4,
 "nbformat_minor": 2
}
