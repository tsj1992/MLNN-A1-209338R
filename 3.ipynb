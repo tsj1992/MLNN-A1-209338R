{
 "cells": [
  {
   "cell_type": "code",
   "execution_count": 1,
   "metadata": {},
   "outputs": [],
   "source": [
    "# AUTHOR: KATS JAYATHILAKA - 209338R\n",
    "# DESCRIPTION: This is an assignment done on neural networks for the machine learnining module - MSc2020\n",
    "#              Classification of MNIST dataset using a deep neural network"
   ]
  },
  {
   "cell_type": "code",
   "execution_count": 2,
   "metadata": {},
   "outputs": [],
   "source": [
    "# importing tensorflow lib\n",
    "import tensorflow as tf"
   ]
  },
  {
   "cell_type": "code",
   "execution_count": 3,
   "metadata": {},
   "outputs": [],
   "source": [
    "# importing built-in MNIST dataset\n",
    "mnist = tf.keras.datasets.mnist  # 28x28 images of hand-written digits"
   ]
  },
  {
   "cell_type": "code",
   "execution_count": 4,
   "metadata": {},
   "outputs": [],
   "source": [
    "# splitting into train and test sets by the default proportions\n",
    "(x_train, y_train), (x_test, y_test) = mnist.load_data()"
   ]
  },
  {
   "cell_type": "code",
   "execution_count": 5,
   "metadata": {},
   "outputs": [],
   "source": [
    "# imnporting libs for train test splitting\n",
    "import numpy as np\n",
    "from sklearn.model_selection import train_test_split"
   ]
  },
  {
   "cell_type": "code",
   "execution_count": 6,
   "metadata": {},
   "outputs": [],
   "source": [
    "x = np.concatenate((x_train, x_test))  # join all rows of attribute data\n",
    "y = np.concatenate((y_train, y_test))  # join all target classes"
   ]
  },
  {
   "cell_type": "code",
   "execution_count": 7,
   "metadata": {},
   "outputs": [],
   "source": [
    "TRAIN_SIZE = 0.95  # custom train test split proportion\n",
    "\n",
    "# Randome state is set to my index no.\n",
    "x_train, x_test, y_train, y_test = train_test_split(x, y, train_size=TRAIN_SIZE, random_state=209338)"
   ]
  },
  {
   "cell_type": "code",
   "execution_count": 8,
   "metadata": {},
   "outputs": [],
   "source": [
    "# importing plotting libs\n",
    "import matplotlib.pyplot as plt"
   ]
  },
  {
   "cell_type": "code",
   "execution_count": 9,
   "metadata": {},
   "outputs": [
    {
     "data": {
      "image/png": "[encoded data removed]",
      "text/plain": [
       "<Figure size 432x288 with 1 Axes>"
      ]
     },
     "metadata": {
      "needs_background": "light"
     },
     "output_type": "display_data"
    },
    {
     "data": {
      "text/plain": [
       "6"
      ]
     },
     "execution_count": 9,
     "metadata": {},
     "output_type": "execute_result"
    }
   ],
   "source": [
    "# previewing the image and the target class\n",
    "plt.imshow(x_train[0], cmap=plt.cm.binary)\n",
    "plt.show()\n",
    "y_train[0]"
   ]
  },
  {
   "cell_type": "code",
   "execution_count": 10,
   "metadata": {},
   "outputs": [],
   "source": [
    "# z-score standardization of attribute data\n",
    "x_train = tf.keras.utils.normalize(x_train, axis=1)\n",
    "x_test = tf.keras.utils.normalize(x_test, axis=1)"
   ]
  },
  {
   "cell_type": "code",
   "execution_count": 11,
   "metadata": {},
   "outputs": [],
   "source": [
    "# adding some noise to the data\n",
    "NOISE_FACTOR = 0.25\n",
    "\n",
    "x_train_noisy = x_train + NOISE_FACTOR * np.random.normal(loc=0.0, scale=1.0, size=x_train.shape)\n",
    "x_test_noisy = x_test + NOISE_FACTOR * np.random.normal(loc=0.0, scale=1.0, size=x_test.shape)\n",
    "x_train_noisy = np.clip(x_train_noisy, 0., 1.)\n",
    "x_test_noisy = np.clip(x_test_noisy, 0., 1.)"
   ]
  },
  {
   "cell_type": "code",
   "execution_count": 12,
   "metadata": {},
   "outputs": [
    {
     "data": {
      "text/plain": [
       "<function matplotlib.pyplot.show(*args, **kw)>"
      ]
     },
     "execution_count": 12,
     "metadata": {},
     "output_type": "execute_result"
    },
    {
     "data": {
      "image/png": "[encoded data removed]",
      "text/plain": [
       "<Figure size 432x288 with 1 Axes>"
      ]
     },
     "metadata": {
      "needs_background": "light"
     },
     "output_type": "display_data"
    }
   ],
   "source": [
    "# previewing the image using the standardized data\n",
    "plt.imshow(x_train[0], cmap=plt.cm.binary)\n",
    "plt.show"
   ]
  },
  {
   "cell_type": "code",
   "execution_count": 13,
   "metadata": {},
   "outputs": [
    {
     "name": "stdout",
     "output_type": "stream",
     "text": [
      "WARNING:tensorflow:From C:\\ProgramData\\Anaconda3\\lib\\site-packages\\tensorflow\\python\\ops\\resource_variable_ops.py:435: colocate_with (from tensorflow.python.framework.ops) is deprecated and will be removed in a future version.\n",
      "Instructions for updating:\n",
      "Colocations handled automatically by placer.\n"
     ]
    }
   ],
   "source": [
    "# creating the Deep Neural Network Model\n",
    "model = tf.keras.models.Sequential()  # feed-forward model\n",
    "\n",
    "# adding input layer by flattening the input attributes into a single dimension'\n",
    "model.add(tf.keras.layers.Flatten())\n",
    "\n",
    "# adding hidden layers\n",
    "model.add(tf.keras.layers.Dense(256, activation=tf.keras.activations.relu))\n",
    "model.add(tf.keras.layers.Dense(128, activation=tf.keras.activations.relu))\n",
    "\n",
    "# adding output layer\n",
    "model.add(tf.keras.layers.Dense(10, activation=tf.keras.activations.softmax))\n",
    "\n",
    "# compllie the model\n",
    "model.compile(optimizer=\"adam\", loss=\"sparse_categorical_crossentropy\", metrics=[\"accuracy\"])"
   ]
  },
  {
   "cell_type": "code",
   "execution_count": 14,
   "metadata": {},
   "outputs": [
    {
     "name": "stdout",
     "output_type": "stream",
     "text": [
      "Epoch 1/20\n",
      "66500/66500 [==============================] - 6s 89us/sample - loss: 0.2240 - acc: 0.9330\n",
      "Epoch 2/20\n",
      "66500/66500 [==============================] - 6s 85us/sample - loss: 0.0863 - acc: 0.9728\n",
      "Epoch 3/20\n",
      "66500/66500 [==============================] - 6s 86us/sample - loss: 0.0572 - acc: 0.9821\n",
      "Epoch 4/20\n",
      "66500/66500 [==============================] - 6s 86us/sample - loss: 0.0405 - acc: 0.9869\n",
      "Epoch 5/20\n",
      "66500/66500 [==============================] - 6s 84us/sample - loss: 0.0311 - acc: 0.9892\n",
      "Epoch 6/20\n",
      "66500/66500 [==============================] - 6s 87us/sample - loss: 0.0242 - acc: 0.9918\n",
      "Epoch 7/20\n",
      "66500/66500 [==============================] - 6s 96us/sample - loss: 0.0194 - acc: 0.9935\n",
      "Epoch 8/20\n",
      "66500/66500 [==============================] - 6s 97us/sample - loss: 0.0171 - acc: 0.9943\n",
      "Epoch 9/20\n",
      "66500/66500 [==============================] - 6s 95us/sample - loss: 0.0145 - acc: 0.9954\n",
      "Epoch 10/20\n",
      "66500/66500 [==============================] - 6s 93us/sample - loss: 0.0133 - acc: 0.9954\n",
      "Epoch 11/20\n",
      "66500/66500 [==============================] - 6s 93us/sample - loss: 0.0121 - acc: 0.9961\n",
      "Epoch 12/20\n",
      "66500/66500 [==============================] - 6s 92us/sample - loss: 0.0114 - acc: 0.9958\n",
      "Epoch 13/20\n",
      "66500/66500 [==============================] - 6s 92us/sample - loss: 0.0102 - acc: 0.9965\n",
      "Epoch 14/20\n",
      "66500/66500 [==============================] - 6s 92us/sample - loss: 0.0080 - acc: 0.9974\n",
      "Epoch 15/20\n",
      "66500/66500 [==============================] - 6s 95us/sample - loss: 0.0086 - acc: 0.9968\n",
      "Epoch 16/20\n",
      "66500/66500 [==============================] - 6s 93us/sample - loss: 0.0086 - acc: 0.9970\n",
      "Epoch 17/20\n",
      "66500/66500 [==============================] - 6s 94us/sample - loss: 0.0072 - acc: 0.9977\n",
      "Epoch 18/20\n",
      "66500/66500 [==============================] - 6s 96us/sample - loss: 0.0064 - acc: 0.9979\n",
      "Epoch 19/20\n",
      "66500/66500 [==============================] - 6s 91us/sample - loss: 0.0083 - acc: 0.9973\n",
      "Epoch 20/20\n",
      "66500/66500 [==============================] - 6s 92us/sample - loss: 0.0066 - acc: 0.9980\n"
     ]
    },
    {
     "data": {
      "text/plain": [
       "<tensorflow.python.keras.callbacks.History at 0x28e82be3788>"
      ]
     },
     "execution_count": 14,
     "metadata": {},
     "output_type": "execute_result"
    }
   ],
   "source": [
    "EPOCHS = 20\n",
    "\n",
    "# training for multiple epochs\n",
    "model.fit(x_train, y_train, epochs=EPOCHS)"
   ]
  },
  {
   "cell_type": "code",
   "execution_count": 15,
   "metadata": {},
   "outputs": [
    {
     "name": "stdout",
     "output_type": "stream",
     "text": [
      "3500/3500 [==============================] - 0s 44us/sample - loss: 0.1204 - acc: 0.9806\n"
     ]
    }
   ],
   "source": [
    "loss, accuracy = model.evaluate(x_test, y_test)"
   ]
  }
 ],
 "metadata": {
  "kernelspec": {
   "display_name": "Python 3",
   "language": "python",
   "name": "python3"
  },
  "language_info": {
   "codemirror_mode": {
    "name": "ipython",
    "version": 3
   },
   "file_extension": ".py",
   "mimetype": "text/x-python",
   "name": "python",
   "nbconvert_exporter": "python",
   "pygments_lexer": "ipython3",
   "version": "3.7.4"
  }
 },
 "nbformat": 4,
 "nbformat_minor": 2
}
