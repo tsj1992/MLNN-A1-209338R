{
 "cells": [
  {
   "cell_type": "code",
   "execution_count": 2,
   "metadata": {},
   "outputs": [],
   "source": [
    "# AUTHOR: KATS JAYATHILAKA - 209338R\n",
    "# DESCRIPTION: This is an assignment done on neural networks for the machine learnining module - MSc2020\n",
    "#              Classification of MNIST dataset using a deep neural network"
   ]
  },
  {
   "cell_type": "code",
   "execution_count": 3,
   "metadata": {},
   "outputs": [],
   "source": [
    "# importing tensorflow lib\n",
    "import tensorflow as tf"
   ]
  },
  {
   "cell_type": "code",
   "execution_count": 4,
   "metadata": {},
   "outputs": [],
   "source": [
    "# importing built-in MNIST dataset\n",
    "mnist = tf.keras.datasets.mnist  # 28x28 images of hand-written digits"
   ]
  },
  {
   "cell_type": "code",
   "execution_count": 5,
   "metadata": {},
   "outputs": [],
   "source": [
    "# splitting into train and test sets by the default proportions\n",
    "(x_train, y_train), (x_test, y_test) = mnist.load_data()"
   ]
  },
  {
   "cell_type": "code",
   "execution_count": 6,
   "metadata": {},
   "outputs": [],
   "source": [
    "# imnporting libs for train test splitting\n",
    "import numpy as np\n",
    "from sklearn.model_selection import train_test_split"
   ]
  },
  {
   "cell_type": "code",
   "execution_count": 7,
   "metadata": {},
   "outputs": [],
   "source": [
    "x = np.concatenate((x_train, x_test))  # join all rows of attribute data\n",
    "y = np.concatenate((y_train, y_test))  # join all target classes"
   ]
  },
  {
   "cell_type": "code",
   "execution_count": 8,
   "metadata": {},
   "outputs": [],
   "source": [
    "TRAIN_SIZE = 0.80  # custom train test split proportion\n",
    "\n",
    "# Randome state is set to my index no.\n",
    "x_train, x_test, y_train, y_test = train_test_split(x, y, train_size=TRAIN_SIZE, random_state=209338)"
   ]
  },
  {
   "cell_type": "code",
   "execution_count": 9,
   "metadata": {},
   "outputs": [],
   "source": [
    "# importing plotting libs\n",
    "import matplotlib.pyplot as plt"
   ]
  },
  {
   "cell_type": "code",
   "execution_count": 10,
   "metadata": {},
   "outputs": [
    {
     "data": {
      "image/png": "[encoded data removed]",
      "text/plain": [
       "<Figure size 432x288 with 1 Axes>"
      ]
     },
     "metadata": {
      "needs_background": "light"
     },
     "output_type": "display_data"
    },
    {
     "data": {
      "text/plain": [
       "6"
      ]
     },
     "execution_count": 10,
     "metadata": {},
     "output_type": "execute_result"
    }
   ],
   "source": [
    "# previewing the image and the target class\n",
    "plt.imshow(x_train[0], cmap=plt.cm.binary)\n",
    "plt.show()\n",
    "y_train[0]"
   ]
  },
  {
   "cell_type": "code",
   "execution_count": 11,
   "metadata": {},
   "outputs": [],
   "source": [
    "# z-score standardization of attribute data\n",
    "x_train = tf.keras.utils.normalize(x_train, axis=1)\n",
    "x_test = tf.keras.utils.normalize(x_test, axis=1)"
   ]
  },
  {
   "cell_type": "code",
   "execution_count": 14,
   "metadata": {},
   "outputs": [
    {
     "data": {
      "text/plain": [
       "array([[[0.        , 1.        , 0.0710116 , ..., 0.        ,\n",
       "         0.76576317, 0.        ],\n",
       "        [0.        , 0.        , 0.59927469, ..., 1.        ,\n",
       "         0.        , 1.        ],\n",
       "        [0.35178405, 0.        , 0.27635357, ..., 0.10222898,\n",
       "         0.23612027, 0.        ],\n",
       "        ...,\n",
       "        [0.40609065, 0.88000815, 0.        , ..., 0.        ,\n",
       "         0.        , 0.        ],\n",
       "        [0.57545257, 0.05009033, 0.        , ..., 0.60316448,\n",
       "         0.        , 0.        ],\n",
       "        [0.        , 0.        , 0.54387655, ..., 0.79476228,\n",
       "         0.        , 0.        ]],\n",
       "\n",
       "       [[0.43494143, 0.32786152, 0.65278252, ..., 0.        ,\n",
       "         0.        , 1.        ],\n",
       "        [0.        , 0.        , 0.14203925, ..., 0.74990621,\n",
       "         0.80734925, 0.19050073],\n",
       "        [0.        , 0.56574325, 0.11001634, ..., 0.04969605,\n",
       "         0.        , 0.        ],\n",
       "        ...,\n",
       "        [0.        , 1.        , 0.        , ..., 1.        ,\n",
       "         0.67948619, 0.        ],\n",
       "        [0.97455416, 0.        , 0.        , ..., 0.32442395,\n",
       "         0.98404588, 0.7780744 ],\n",
       "        [0.06755244, 0.90458697, 0.        , ..., 0.        ,\n",
       "         0.        , 1.        ]],\n",
       "\n",
       "       [[0.        , 0.56301759, 0.        , ..., 0.        ,\n",
       "         0.62580128, 1.        ],\n",
       "        [1.        , 0.14857643, 0.11879108, ..., 0.28198377,\n",
       "         0.        , 0.        ],\n",
       "        [0.        , 0.        , 1.        , ..., 0.        ,\n",
       "         0.        , 0.        ],\n",
       "        ...,\n",
       "        [0.        , 0.28640008, 0.93856036, ..., 1.        ,\n",
       "         0.        , 0.        ],\n",
       "        [0.        , 0.36187128, 0.        , ..., 0.        ,\n",
       "         0.34287823, 0.        ],\n",
       "        [0.        , 0.        , 0.        , ..., 0.78217033,\n",
       "         0.75125902, 0.70074838]],\n",
       "\n",
       "       ...,\n",
       "\n",
       "       [[0.        , 0.        , 0.24461149, ..., 0.41461403,\n",
       "         0.        , 0.        ],\n",
       "        [0.30558383, 0.        , 0.        , ..., 0.        ,\n",
       "         0.        , 0.        ],\n",
       "        [0.91903598, 0.        , 0.        , ..., 0.33907224,\n",
       "         1.        , 0.        ],\n",
       "        ...,\n",
       "        [0.        , 0.42510771, 0.76580645, ..., 0.14042838,\n",
       "         1.        , 0.82001287],\n",
       "        [0.        , 0.        , 0.        , ..., 0.50257474,\n",
       "         0.        , 0.        ],\n",
       "        [0.        , 0.93675311, 1.        , ..., 0.30250931,\n",
       "         0.69335977, 0.        ]],\n",
       "\n",
       "       [[0.        , 0.39637019, 0.        , ..., 0.46097399,\n",
       "         1.        , 0.        ],\n",
       "        [0.        , 0.        , 1.        , ..., 1.        ,\n",
       "         0.        , 0.        ],\n",
       "        [0.56980406, 0.06394902, 0.54305854, ..., 1.        ,\n",
       "         0.75113171, 0.64255307],\n",
       "        ...,\n",
       "        [0.        , 0.        , 0.76082479, ..., 0.        ,\n",
       "         1.        , 0.        ],\n",
       "        [0.08670423, 1.        , 0.        , ..., 0.        ,\n",
       "         0.42167548, 0.        ],\n",
       "        [1.        , 0.        , 0.        , ..., 0.        ,\n",
       "         0.16280512, 0.28450116]],\n",
       "\n",
       "       [[0.        , 0.        , 0.        , ..., 0.02126789,\n",
       "         0.17097199, 1.        ],\n",
       "        [0.93081043, 1.        , 0.3154239 , ..., 0.7553889 ,\n",
       "         0.        , 1.        ],\n",
       "        [0.0695757 , 0.6772056 , 0.        , ..., 0.        ,\n",
       "         0.16406094, 0.        ],\n",
       "        ...,\n",
       "        [0.        , 0.08156178, 0.39670847, ..., 0.97072112,\n",
       "         1.        , 0.42919333],\n",
       "        [0.92439819, 0.        , 0.        , ..., 0.        ,\n",
       "         0.19486185, 0.        ],\n",
       "        [0.        , 1.        , 0.05275545, ..., 0.09438429,\n",
       "         1.        , 0.47727158]]])"
      ]
     },
     "execution_count": 14,
     "metadata": {},
     "output_type": "execute_result"
    }
   ],
   "source": [
    "# adding some noise to the data\n",
    "NOISE_FACTOR = 0.10\n",
    "\n",
    "x_train_noisy = x_train + NOISE_FACTOR * np.random.normal(loc=0.0, scale=1.0, size=x_train.shape)\n",
    "x_test_noisy = x_test + NOISE_FACTOR * np.random.normal(loc=0.0, scale=1.0, size=x_test.shape)\n",
    "x_train_noisy = np.clip(x_train_noisy, 0., 1.)\n",
    "x_test_noisy = np.clip(x_test_noisy, 0., 1.)"
   ]
  },
  {
   "cell_type": "code",
   "execution_count": null,
   "metadata": {},
   "outputs": [],
   "source": [
    "# previewing the image using the standardized data\n",
    "plt.imshow(x_train[0], cmap=plt.cm.binary)\n",
    "plt.show"
   ]
  },
  {
   "cell_type": "code",
   "execution_count": null,
   "metadata": {},
   "outputs": [],
   "source": [
    "# creating the Deep Neural Network Model\n",
    "model = tf.keras.models.Sequential()  # feed-forward model\n",
    "\n",
    "# adding input layer by flattening the input attributes into a single dimension'\n",
    "model.add(tf.keras.layers.Flatten())\n",
    "\n",
    "# adding hidden layers\n",
    "model.add(tf.keras.layers.Dense(256, activation=tf.keras.activations.relu))\n",
    "model.add(tf.keras.layers.Dense(128, activation=tf.keras.activations.relu))\n",
    "\n",
    "# adding output layer\n",
    "model.add(tf.keras.layers.Dense(10, activation=tf.keras.activations.softmax))\n",
    "\n",
    "# compllie the model\n",
    "model.compile(optimizer=\"adam\", loss=\"sparse_categorical_crossentropy\", metrics=[\"accuracy\"])"
   ]
  },
  {
   "cell_type": "code",
   "execution_count": null,
   "metadata": {},
   "outputs": [],
   "source": [
    "EPOCHS = 20\n",
    "\n",
    "# training for multiple epochs\n",
    "model.fit(x_train, y_train, epochs=EPOCHS)"
   ]
  },
  {
   "cell_type": "code",
   "execution_count": null,
   "metadata": {},
   "outputs": [],
   "source": [
    "loss, accuracy = model.evaluate(x_test, y_test)"
   ]
  }
 ],
 "metadata": {
  "kernelspec": {
   "display_name": "Python 3",
   "language": "python",
   "name": "python3"
  },
  "language_info": {
   "codemirror_mode": {
    "name": "ipython",
    "version": 3
   },
   "file_extension": ".py",
   "mimetype": "text/x-python",
   "name": "python",
   "nbconvert_exporter": "python",
   "pygments_lexer": "ipython3",
   "version": "3.7.4"
  }
 },
 "nbformat": 4,
 "nbformat_minor": 2
}
